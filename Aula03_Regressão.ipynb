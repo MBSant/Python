{
  "nbformat": 4,
  "nbformat_minor": 0,
  "metadata": {
    "colab": {
      "name": "Aula03_Regressão.ipynb",
      "provenance": [],
      "collapsed_sections": [],
      "authorship_tag": "ABX9TyO5nH10SETYMQSrnV1FpTzM",
      "include_colab_link": true
    },
    "kernelspec": {
      "name": "python3",
      "display_name": "Python 3"
    },
    "language_info": {
      "name": "python"
    }
  },
  "cells": [
    {
      "cell_type": "markdown",
      "metadata": {
        "id": "view-in-github",
        "colab_type": "text"
      },
      "source": [
        "<a href=\"https://colab.research.google.com/github/MBSant/Python/blob/main/Aula03_Regress%C3%A3o.ipynb\" target=\"_parent\"><img src=\"https://colab.research.google.com/assets/colab-badge.svg\" alt=\"Open In Colab\"/></a>"
      ]
    },
    {
      "cell_type": "markdown",
      "source": [
        "# Modelo de Regressão\n",
        "Variável resposta é contínua nesse caso"
      ],
      "metadata": {
        "id": "mBORZcvMRsiz"
      }
    },
    {
      "cell_type": "code",
      "source": [
        "import pandas as pd\n",
        "import numpy as np\n",
        "import matplotlib.pyplot as plt"
      ],
      "metadata": {
        "id": "U3KvxAtPRvZz"
      },
      "execution_count": 1,
      "outputs": []
    },
    {
      "cell_type": "markdown",
      "source": [
        "###**Problema**\n",
        "\n",
        "Para melhorar sua concessão de créditos, um banco quer prever quanto é a renda mensal, mesmo considerando que eles podem movimentar contas de outros bancos e mesmo que não declarem ou tragam comprovante.\n",
        "\n",
        "###**Variáveis**\n",
        " * Age: idade\n",
        " * NumberOfDependents: quantidade de dependentes informados pelo cliente\n",
        " * RevolvingUtilizationOfUnsecuredLines: Total de crédito tomado sem garantia\n",
        " * DebitRation:Razão da dívida pelo patrimônio\n",
        " * NumberOfOpenCreditLinesAndLoans: Número total de empréstimos tomados\n",
        " * NumberOfTime30-59DaysPastDueNotWorse:Número de vezes que o cliente ficou entre 30 e 59 dias em atraso\n",
        " * NumberOfTime60-89DaysPastDueNotWorse:Número de vezes que o cliente ficou entre 60 e 89 dias em atraso\n",
        " * NumberOfTimes90DayLate:Número de vezes que o cliente ficou mais de 90 dias em atraso\n",
        " * NumberRealEstateLoansOfLines: Quantidade de financiamentos imobiliários do cliente\n",
        "\n",
        "###**Variável Resposta**\n",
        " * MonthlyIncome: Renda mensal"
      ],
      "metadata": {
        "id": "QTrxbKPqSgKr"
      }
    },
    {
      "cell_type": "code",
      "source": [
        "df = pd.read_csv(\"base_banco.csv\")"
      ],
      "metadata": {
        "id": "G0O4ZFOcSYbA"
      },
      "execution_count": 2,
      "outputs": []
    },
    {
      "cell_type": "code",
      "source": [
        "df"
      ],
      "metadata": {
        "colab": {
          "base_uri": "https://localhost:8080/",
          "height": 505
        },
        "id": "83aJSauvXGBW",
        "outputId": "9eda99ee-3d3b-4a97-dda5-496e3083b69d"
      },
      "execution_count": 3,
      "outputs": [
        {
          "output_type": "execute_result",
          "data": {
            "text/plain": [
              "        RevolvingUtilizationOfUnsecuredLines  age  \\\n",
              "0                                   0.766127   45   \n",
              "1                                   0.957151   40   \n",
              "2                                   0.658180   38   \n",
              "3                                   0.233810   30   \n",
              "4                                   0.907239   49   \n",
              "...                                      ...  ...   \n",
              "120264                              0.385742   50   \n",
              "120265                              0.040674   74   \n",
              "120266                              0.299745   44   \n",
              "120267                              0.000000   30   \n",
              "120268                              0.850283   64   \n",
              "\n",
              "        NumberOfTime30-59DaysPastDueNotWorse  MonthlyIncome  \\\n",
              "0                                          2         9120.0   \n",
              "1                                          0         2600.0   \n",
              "2                                          1         3042.0   \n",
              "3                                          0         3300.0   \n",
              "4                                          1        63588.0   \n",
              "...                                      ...            ...   \n",
              "120264                                     0         3400.0   \n",
              "120265                                     0         2100.0   \n",
              "120266                                     0         5584.0   \n",
              "120267                                     0         5716.0   \n",
              "120268                                     0         8158.0   \n",
              "\n",
              "        NumberOfOpenCreditLinesAndLoans  NumberOfTimes90DaysLate  \\\n",
              "0                                    13                        0   \n",
              "1                                     4                        0   \n",
              "2                                     2                        1   \n",
              "3                                     5                        0   \n",
              "4                                     7                        0   \n",
              "...                                 ...                      ...   \n",
              "120264                                7                        0   \n",
              "120265                                4                        0   \n",
              "120266                                4                        0   \n",
              "120267                                4                        0   \n",
              "120268                                8                        0   \n",
              "\n",
              "        NumberRealEstateLoansOrLines  NumberOfTime60-89DaysPastDueNotWorse  \\\n",
              "0                                  6                                     0   \n",
              "1                                  0                                     0   \n",
              "2                                  0                                     0   \n",
              "3                                  0                                     0   \n",
              "4                                  1                                     0   \n",
              "...                              ...                                   ...   \n",
              "120264                             0                                     0   \n",
              "120265                             1                                     0   \n",
              "120266                             1                                     0   \n",
              "120267                             0                                     0   \n",
              "120268                             2                                     0   \n",
              "\n",
              "        NumberOfDependents  \n",
              "0                      2.0  \n",
              "1                      1.0  \n",
              "2                      0.0  \n",
              "3                      0.0  \n",
              "4                      0.0  \n",
              "...                    ...  \n",
              "120264                 0.0  \n",
              "120265                 0.0  \n",
              "120266                 2.0  \n",
              "120267                 0.0  \n",
              "120268                 0.0  \n",
              "\n",
              "[120269 rows x 9 columns]"
            ],
            "text/html": [
              "\n",
              "  <div id=\"df-f505def7-8948-4640-b4f2-3e57684bfc8d\">\n",
              "    <div class=\"colab-df-container\">\n",
              "      <div>\n",
              "<style scoped>\n",
              "    .dataframe tbody tr th:only-of-type {\n",
              "        vertical-align: middle;\n",
              "    }\n",
              "\n",
              "    .dataframe tbody tr th {\n",
              "        vertical-align: top;\n",
              "    }\n",
              "\n",
              "    .dataframe thead th {\n",
              "        text-align: right;\n",
              "    }\n",
              "</style>\n",
              "<table border=\"1\" class=\"dataframe\">\n",
              "  <thead>\n",
              "    <tr style=\"text-align: right;\">\n",
              "      <th></th>\n",
              "      <th>RevolvingUtilizationOfUnsecuredLines</th>\n",
              "      <th>age</th>\n",
              "      <th>NumberOfTime30-59DaysPastDueNotWorse</th>\n",
              "      <th>MonthlyIncome</th>\n",
              "      <th>NumberOfOpenCreditLinesAndLoans</th>\n",
              "      <th>NumberOfTimes90DaysLate</th>\n",
              "      <th>NumberRealEstateLoansOrLines</th>\n",
              "      <th>NumberOfTime60-89DaysPastDueNotWorse</th>\n",
              "      <th>NumberOfDependents</th>\n",
              "    </tr>\n",
              "  </thead>\n",
              "  <tbody>\n",
              "    <tr>\n",
              "      <th>0</th>\n",
              "      <td>0.766127</td>\n",
              "      <td>45</td>\n",
              "      <td>2</td>\n",
              "      <td>9120.0</td>\n",
              "      <td>13</td>\n",
              "      <td>0</td>\n",
              "      <td>6</td>\n",
              "      <td>0</td>\n",
              "      <td>2.0</td>\n",
              "    </tr>\n",
              "    <tr>\n",
              "      <th>1</th>\n",
              "      <td>0.957151</td>\n",
              "      <td>40</td>\n",
              "      <td>0</td>\n",
              "      <td>2600.0</td>\n",
              "      <td>4</td>\n",
              "      <td>0</td>\n",
              "      <td>0</td>\n",
              "      <td>0</td>\n",
              "      <td>1.0</td>\n",
              "    </tr>\n",
              "    <tr>\n",
              "      <th>2</th>\n",
              "      <td>0.658180</td>\n",
              "      <td>38</td>\n",
              "      <td>1</td>\n",
              "      <td>3042.0</td>\n",
              "      <td>2</td>\n",
              "      <td>1</td>\n",
              "      <td>0</td>\n",
              "      <td>0</td>\n",
              "      <td>0.0</td>\n",
              "    </tr>\n",
              "    <tr>\n",
              "      <th>3</th>\n",
              "      <td>0.233810</td>\n",
              "      <td>30</td>\n",
              "      <td>0</td>\n",
              "      <td>3300.0</td>\n",
              "      <td>5</td>\n",
              "      <td>0</td>\n",
              "      <td>0</td>\n",
              "      <td>0</td>\n",
              "      <td>0.0</td>\n",
              "    </tr>\n",
              "    <tr>\n",
              "      <th>4</th>\n",
              "      <td>0.907239</td>\n",
              "      <td>49</td>\n",
              "      <td>1</td>\n",
              "      <td>63588.0</td>\n",
              "      <td>7</td>\n",
              "      <td>0</td>\n",
              "      <td>1</td>\n",
              "      <td>0</td>\n",
              "      <td>0.0</td>\n",
              "    </tr>\n",
              "    <tr>\n",
              "      <th>...</th>\n",
              "      <td>...</td>\n",
              "      <td>...</td>\n",
              "      <td>...</td>\n",
              "      <td>...</td>\n",
              "      <td>...</td>\n",
              "      <td>...</td>\n",
              "      <td>...</td>\n",
              "      <td>...</td>\n",
              "      <td>...</td>\n",
              "    </tr>\n",
              "    <tr>\n",
              "      <th>120264</th>\n",
              "      <td>0.385742</td>\n",
              "      <td>50</td>\n",
              "      <td>0</td>\n",
              "      <td>3400.0</td>\n",
              "      <td>7</td>\n",
              "      <td>0</td>\n",
              "      <td>0</td>\n",
              "      <td>0</td>\n",
              "      <td>0.0</td>\n",
              "    </tr>\n",
              "    <tr>\n",
              "      <th>120265</th>\n",
              "      <td>0.040674</td>\n",
              "      <td>74</td>\n",
              "      <td>0</td>\n",
              "      <td>2100.0</td>\n",
              "      <td>4</td>\n",
              "      <td>0</td>\n",
              "      <td>1</td>\n",
              "      <td>0</td>\n",
              "      <td>0.0</td>\n",
              "    </tr>\n",
              "    <tr>\n",
              "      <th>120266</th>\n",
              "      <td>0.299745</td>\n",
              "      <td>44</td>\n",
              "      <td>0</td>\n",
              "      <td>5584.0</td>\n",
              "      <td>4</td>\n",
              "      <td>0</td>\n",
              "      <td>1</td>\n",
              "      <td>0</td>\n",
              "      <td>2.0</td>\n",
              "    </tr>\n",
              "    <tr>\n",
              "      <th>120267</th>\n",
              "      <td>0.000000</td>\n",
              "      <td>30</td>\n",
              "      <td>0</td>\n",
              "      <td>5716.0</td>\n",
              "      <td>4</td>\n",
              "      <td>0</td>\n",
              "      <td>0</td>\n",
              "      <td>0</td>\n",
              "      <td>0.0</td>\n",
              "    </tr>\n",
              "    <tr>\n",
              "      <th>120268</th>\n",
              "      <td>0.850283</td>\n",
              "      <td>64</td>\n",
              "      <td>0</td>\n",
              "      <td>8158.0</td>\n",
              "      <td>8</td>\n",
              "      <td>0</td>\n",
              "      <td>2</td>\n",
              "      <td>0</td>\n",
              "      <td>0.0</td>\n",
              "    </tr>\n",
              "  </tbody>\n",
              "</table>\n",
              "<p>120269 rows × 9 columns</p>\n",
              "</div>\n",
              "      <button class=\"colab-df-convert\" onclick=\"convertToInteractive('df-f505def7-8948-4640-b4f2-3e57684bfc8d')\"\n",
              "              title=\"Convert this dataframe to an interactive table.\"\n",
              "              style=\"display:none;\">\n",
              "        \n",
              "  <svg xmlns=\"http://www.w3.org/2000/svg\" height=\"24px\"viewBox=\"0 0 24 24\"\n",
              "       width=\"24px\">\n",
              "    <path d=\"M0 0h24v24H0V0z\" fill=\"none\"/>\n",
              "    <path d=\"M18.56 5.44l.94 2.06.94-2.06 2.06-.94-2.06-.94-.94-2.06-.94 2.06-2.06.94zm-11 1L8.5 8.5l.94-2.06 2.06-.94-2.06-.94L8.5 2.5l-.94 2.06-2.06.94zm10 10l.94 2.06.94-2.06 2.06-.94-2.06-.94-.94-2.06-.94 2.06-2.06.94z\"/><path d=\"M17.41 7.96l-1.37-1.37c-.4-.4-.92-.59-1.43-.59-.52 0-1.04.2-1.43.59L10.3 9.45l-7.72 7.72c-.78.78-.78 2.05 0 2.83L4 21.41c.39.39.9.59 1.41.59.51 0 1.02-.2 1.41-.59l7.78-7.78 2.81-2.81c.8-.78.8-2.07 0-2.86zM5.41 20L4 18.59l7.72-7.72 1.47 1.35L5.41 20z\"/>\n",
              "  </svg>\n",
              "      </button>\n",
              "      \n",
              "  <style>\n",
              "    .colab-df-container {\n",
              "      display:flex;\n",
              "      flex-wrap:wrap;\n",
              "      gap: 12px;\n",
              "    }\n",
              "\n",
              "    .colab-df-convert {\n",
              "      background-color: #E8F0FE;\n",
              "      border: none;\n",
              "      border-radius: 50%;\n",
              "      cursor: pointer;\n",
              "      display: none;\n",
              "      fill: #1967D2;\n",
              "      height: 32px;\n",
              "      padding: 0 0 0 0;\n",
              "      width: 32px;\n",
              "    }\n",
              "\n",
              "    .colab-df-convert:hover {\n",
              "      background-color: #E2EBFA;\n",
              "      box-shadow: 0px 1px 2px rgba(60, 64, 67, 0.3), 0px 1px 3px 1px rgba(60, 64, 67, 0.15);\n",
              "      fill: #174EA6;\n",
              "    }\n",
              "\n",
              "    [theme=dark] .colab-df-convert {\n",
              "      background-color: #3B4455;\n",
              "      fill: #D2E3FC;\n",
              "    }\n",
              "\n",
              "    [theme=dark] .colab-df-convert:hover {\n",
              "      background-color: #434B5C;\n",
              "      box-shadow: 0px 1px 3px 1px rgba(0, 0, 0, 0.15);\n",
              "      filter: drop-shadow(0px 1px 2px rgba(0, 0, 0, 0.3));\n",
              "      fill: #FFFFFF;\n",
              "    }\n",
              "  </style>\n",
              "\n",
              "      <script>\n",
              "        const buttonEl =\n",
              "          document.querySelector('#df-f505def7-8948-4640-b4f2-3e57684bfc8d button.colab-df-convert');\n",
              "        buttonEl.style.display =\n",
              "          google.colab.kernel.accessAllowed ? 'block' : 'none';\n",
              "\n",
              "        async function convertToInteractive(key) {\n",
              "          const element = document.querySelector('#df-f505def7-8948-4640-b4f2-3e57684bfc8d');\n",
              "          const dataTable =\n",
              "            await google.colab.kernel.invokeFunction('convertToInteractive',\n",
              "                                                     [key], {});\n",
              "          if (!dataTable) return;\n",
              "\n",
              "          const docLinkHtml = 'Like what you see? Visit the ' +\n",
              "            '<a target=\"_blank\" href=https://colab.research.google.com/notebooks/data_table.ipynb>data table notebook</a>'\n",
              "            + ' to learn more about interactive tables.';\n",
              "          element.innerHTML = '';\n",
              "          dataTable['output_type'] = 'display_data';\n",
              "          await google.colab.output.renderOutput(dataTable, element);\n",
              "          const docLink = document.createElement('div');\n",
              "          docLink.innerHTML = docLinkHtml;\n",
              "          element.appendChild(docLink);\n",
              "        }\n",
              "      </script>\n",
              "    </div>\n",
              "  </div>\n",
              "  "
            ]
          },
          "metadata": {},
          "execution_count": 3
        }
      ]
    },
    {
      "cell_type": "markdown",
      "source": [
        "O que queremos prever?\n",
        "\n",
        "\n",
        "Renda!"
      ],
      "metadata": {
        "id": "-Va83lXkXcpQ"
      }
    },
    {
      "cell_type": "code",
      "source": [
        "plt.figure(figsize= (15,5))\n",
        "plt.hist(df.MonthlyIncome, bins=100);"
      ],
      "metadata": {
        "colab": {
          "base_uri": "https://localhost:8080/",
          "height": 333
        },
        "id": "_p-B7IcFXNGn",
        "outputId": "a9598621-82dc-481a-fbd7-412f7e0acbe5"
      },
      "execution_count": 4,
      "outputs": [
        {
          "output_type": "display_data",
          "data": {
            "text/plain": [
              "<Figure size 1080x360 with 1 Axes>"
            ],
            "image/png": "[encoded data removed]"
          },
          "metadata": {
            "needs_background": "light"
          }
        }
      ]
    },
    {
      "cell_type": "markdown",
      "source": [
        "O histograma gerado apresentou quase todos os clientes (120.000) com uma renda próxima de zero. E ao longo do eixo x as barras nem não possíveis de visualizar.\n",
        "Buscando organizar melhor a visualização as barras usaremos uma escala logaritmica (np.logspace(0, 6.5, 10) os dois primeiros elementos (0 e 6.5) limitam o intervalo desejado com  a potência do logaritmo de 10 no caso 10 elevado na zero que é igual a 1 e 10 elevado na 6.5 que é 3.162.277,66 e o último elemento representa a quantidade de itens no meu conjunto."
      ],
      "metadata": {
        "id": "zfL4yU7TYHxh"
      }
    },
    {
      "cell_type": "code",
      "source": [
        "#Exemplificando a escala logaritmica:\n",
        "np.logspace(0, 6.5, 10)"
      ],
      "metadata": {
        "colab": {
          "base_uri": "https://localhost:8080/"
        },
        "id": "cKT4X-9wX_9F",
        "outputId": "92261133-0e60-4fef-8f2b-b2e4e269156b"
      },
      "execution_count": 5,
      "outputs": [
        {
          "output_type": "execute_result",
          "data": {
            "text/plain": [
              "array([1.00000000e+00, 5.27499706e+00, 2.78255940e+01, 1.46779927e+02,\n",
              "       7.74263683e+02, 4.08423865e+03, 2.15443469e+04, 1.13646367e+05,\n",
              "       5.99484250e+05, 3.16227766e+06])"
            ]
          },
          "metadata": {},
          "execution_count": 5
        }
      ]
    },
    {
      "cell_type": "code",
      "source": [
        "#Exemplificando a escala logaritmica:\n",
        "np.logspace(0, 3, 10)"
      ],
      "metadata": {
        "colab": {
          "base_uri": "https://localhost:8080/"
        },
        "id": "Ks0Fp-0Fa12o",
        "outputId": "8d80ea9e-5530-4b2e-b69f-1af9c83fe8ab"
      },
      "execution_count": 6,
      "outputs": [
        {
          "output_type": "execute_result",
          "data": {
            "text/plain": [
              "array([   1.        ,    2.15443469,    4.64158883,   10.        ,\n",
              "         21.5443469 ,   46.41588834,  100.        ,  215.443469  ,\n",
              "        464.15888336, 1000.        ])"
            ]
          },
          "metadata": {},
          "execution_count": 6
        }
      ]
    },
    {
      "cell_type": "code",
      "source": [
        "#Voltando ao histograma:\n",
        "plt.figure(figsize= (15,5))\n",
        "plt.hist(df.MonthlyIncome, bins=np.logspace(0, 6.5, 100));"
      ],
      "metadata": {
        "colab": {
          "base_uri": "https://localhost:8080/",
          "height": 333
        },
        "id": "5lgC1ePubQBC",
        "outputId": "eb5c7180-93bb-4bf6-d5bc-c8489f09920d"
      },
      "execution_count": 7,
      "outputs": [
        {
          "output_type": "display_data",
          "data": {
            "text/plain": [
              "<Figure size 1080x360 with 1 Axes>"
            ],
            "image/png": "[encoded data removed]"
          },
          "metadata": {
            "needs_background": "light"
          }
        }
      ]
    },
    {
      "cell_type": "markdown",
      "source": [
        "Já houve uma melhora na visualização, mas podemos colocar o eixo X na escala logarítimica para melhorar."
      ],
      "metadata": {
        "id": "IHCfVJJAb0Vq"
      }
    },
    {
      "cell_type": "code",
      "source": [
        "plt.figure(figsize= (15,5))\n",
        "plt.hist(df.MonthlyIncome, bins=np.logspace(0, 6.5, 100))\n",
        "plt.xscale('log');"
      ],
      "metadata": {
        "colab": {
          "base_uri": "https://localhost:8080/",
          "height": 324
        },
        "id": "nPId_BQVbfvd",
        "outputId": "95eb671f-e691-4d5c-c302-f3a6a78d756f"
      },
      "execution_count": 8,
      "outputs": [
        {
          "output_type": "display_data",
          "data": {
            "text/plain": [
              "<Figure size 1080x360 with 1 Axes>"
            ],
            "image/png": "[encoded data removed]"
          },
          "metadata": {
            "needs_background": "light"
          }
        }
      ]
    },
    {
      "cell_type": "code",
      "source": [
        "#Usando o rwidth para espaçar as barras.\n",
        "plt.figure(figsize= (15,5))\n",
        "plt.hist(df.MonthlyIncome, bins=np.logspace(0, 6.5, 100), rwidth = .8)\n",
        "plt.xscale('log');"
      ],
      "metadata": {
        "colab": {
          "base_uri": "https://localhost:8080/",
          "height": 324
        },
        "id": "5B1X9WqlcOfg",
        "outputId": "2198d487-a926-423f-8947-07fc184d77f2"
      },
      "execution_count": 9,
      "outputs": [
        {
          "output_type": "display_data",
          "data": {
            "text/plain": [
              "<Figure size 1080x360 with 1 Axes>"
            ],
            "image/png": "[encoded data removed]"
          },
          "metadata": {
            "needs_background": "light"
          }
        }
      ]
    },
    {
      "cell_type": "markdown",
      "source": [
        "A partir do histograma gerado é possivel verificar que a nossa variável resposta é bastante assimétrica."
      ],
      "metadata": {
        "id": "BzNx0A_DdH5z"
      }
    },
    {
      "cell_type": "code",
      "source": [
        "df.head()"
      ],
      "metadata": {
        "colab": {
          "base_uri": "https://localhost:8080/",
          "height": 287
        },
        "id": "CTlHhSiMc3jN",
        "outputId": "22ecd362-e16a-4a8d-edb0-08fe2173f0b4"
      },
      "execution_count": 10,
      "outputs": [
        {
          "output_type": "execute_result",
          "data": {
            "text/plain": [
              "   RevolvingUtilizationOfUnsecuredLines  age  \\\n",
              "0                              0.766127   45   \n",
              "1                              0.957151   40   \n",
              "2                              0.658180   38   \n",
              "3                              0.233810   30   \n",
              "4                              0.907239   49   \n",
              "\n",
              "   NumberOfTime30-59DaysPastDueNotWorse  MonthlyIncome  \\\n",
              "0                                     2         9120.0   \n",
              "1                                     0         2600.0   \n",
              "2                                     1         3042.0   \n",
              "3                                     0         3300.0   \n",
              "4                                     1        63588.0   \n",
              "\n",
              "   NumberOfOpenCreditLinesAndLoans  NumberOfTimes90DaysLate  \\\n",
              "0                               13                        0   \n",
              "1                                4                        0   \n",
              "2                                2                        1   \n",
              "3                                5                        0   \n",
              "4                                7                        0   \n",
              "\n",
              "   NumberRealEstateLoansOrLines  NumberOfTime60-89DaysPastDueNotWorse  \\\n",
              "0                             6                                     0   \n",
              "1                             0                                     0   \n",
              "2                             0                                     0   \n",
              "3                             0                                     0   \n",
              "4                             1                                     0   \n",
              "\n",
              "   NumberOfDependents  \n",
              "0                 2.0  \n",
              "1                 1.0  \n",
              "2                 0.0  \n",
              "3                 0.0  \n",
              "4                 0.0  "
            ],
            "text/html": [
              "\n",
              "  <div id=\"df-a64e8ff3-1267-4309-94cb-c81965f031df\">\n",
              "    <div class=\"colab-df-container\">\n",
              "      <div>\n",
              "<style scoped>\n",
              "    .dataframe tbody tr th:only-of-type {\n",
              "        vertical-align: middle;\n",
              "    }\n",
              "\n",
              "    .dataframe tbody tr th {\n",
              "        vertical-align: top;\n",
              "    }\n",
              "\n",
              "    .dataframe thead th {\n",
              "        text-align: right;\n",
              "    }\n",
              "</style>\n",
              "<table border=\"1\" class=\"dataframe\">\n",
              "  <thead>\n",
              "    <tr style=\"text-align: right;\">\n",
              "      <th></th>\n",
              "      <th>RevolvingUtilizationOfUnsecuredLines</th>\n",
              "      <th>age</th>\n",
              "      <th>NumberOfTime30-59DaysPastDueNotWorse</th>\n",
              "      <th>MonthlyIncome</th>\n",
              "      <th>NumberOfOpenCreditLinesAndLoans</th>\n",
              "      <th>NumberOfTimes90DaysLate</th>\n",
              "      <th>NumberRealEstateLoansOrLines</th>\n",
              "      <th>NumberOfTime60-89DaysPastDueNotWorse</th>\n",
              "      <th>NumberOfDependents</th>\n",
              "    </tr>\n",
              "  </thead>\n",
              "  <tbody>\n",
              "    <tr>\n",
              "      <th>0</th>\n",
              "      <td>0.766127</td>\n",
              "      <td>45</td>\n",
              "      <td>2</td>\n",
              "      <td>9120.0</td>\n",
              "      <td>13</td>\n",
              "      <td>0</td>\n",
              "      <td>6</td>\n",
              "      <td>0</td>\n",
              "      <td>2.0</td>\n",
              "    </tr>\n",
              "    <tr>\n",
              "      <th>1</th>\n",
              "      <td>0.957151</td>\n",
              "      <td>40</td>\n",
              "      <td>0</td>\n",
              "      <td>2600.0</td>\n",
              "      <td>4</td>\n",
              "      <td>0</td>\n",
              "      <td>0</td>\n",
              "      <td>0</td>\n",
              "      <td>1.0</td>\n",
              "    </tr>\n",
              "    <tr>\n",
              "      <th>2</th>\n",
              "      <td>0.658180</td>\n",
              "      <td>38</td>\n",
              "      <td>1</td>\n",
              "      <td>3042.0</td>\n",
              "      <td>2</td>\n",
              "      <td>1</td>\n",
              "      <td>0</td>\n",
              "      <td>0</td>\n",
              "      <td>0.0</td>\n",
              "    </tr>\n",
              "    <tr>\n",
              "      <th>3</th>\n",
              "      <td>0.233810</td>\n",
              "      <td>30</td>\n",
              "      <td>0</td>\n",
              "      <td>3300.0</td>\n",
              "      <td>5</td>\n",
              "      <td>0</td>\n",
              "      <td>0</td>\n",
              "      <td>0</td>\n",
              "      <td>0.0</td>\n",
              "    </tr>\n",
              "    <tr>\n",
              "      <th>4</th>\n",
              "      <td>0.907239</td>\n",
              "      <td>49</td>\n",
              "      <td>1</td>\n",
              "      <td>63588.0</td>\n",
              "      <td>7</td>\n",
              "      <td>0</td>\n",
              "      <td>1</td>\n",
              "      <td>0</td>\n",
              "      <td>0.0</td>\n",
              "    </tr>\n",
              "  </tbody>\n",
              "</table>\n",
              "</div>\n",
              "      <button class=\"colab-df-convert\" onclick=\"convertToInteractive('df-a64e8ff3-1267-4309-94cb-c81965f031df')\"\n",
              "              title=\"Convert this dataframe to an interactive table.\"\n",
              "              style=\"display:none;\">\n",
              "        \n",
              "  <svg xmlns=\"http://www.w3.org/2000/svg\" height=\"24px\"viewBox=\"0 0 24 24\"\n",
              "       width=\"24px\">\n",
              "    <path d=\"M0 0h24v24H0V0z\" fill=\"none\"/>\n",
              "    <path d=\"M18.56 5.44l.94 2.06.94-2.06 2.06-.94-2.06-.94-.94-2.06-.94 2.06-2.06.94zm-11 1L8.5 8.5l.94-2.06 2.06-.94-2.06-.94L8.5 2.5l-.94 2.06-2.06.94zm10 10l.94 2.06.94-2.06 2.06-.94-2.06-.94-.94-2.06-.94 2.06-2.06.94z\"/><path d=\"M17.41 7.96l-1.37-1.37c-.4-.4-.92-.59-1.43-.59-.52 0-1.04.2-1.43.59L10.3 9.45l-7.72 7.72c-.78.78-.78 2.05 0 2.83L4 21.41c.39.39.9.59 1.41.59.51 0 1.02-.2 1.41-.59l7.78-7.78 2.81-2.81c.8-.78.8-2.07 0-2.86zM5.41 20L4 18.59l7.72-7.72 1.47 1.35L5.41 20z\"/>\n",
              "  </svg>\n",
              "      </button>\n",
              "      \n",
              "  <style>\n",
              "    .colab-df-container {\n",
              "      display:flex;\n",
              "      flex-wrap:wrap;\n",
              "      gap: 12px;\n",
              "    }\n",
              "\n",
              "    .colab-df-convert {\n",
              "      background-color: #E8F0FE;\n",
              "      border: none;\n",
              "      border-radius: 50%;\n",
              "      cursor: pointer;\n",
              "      display: none;\n",
              "      fill: #1967D2;\n",
              "      height: 32px;\n",
              "      padding: 0 0 0 0;\n",
              "      width: 32px;\n",
              "    }\n",
              "\n",
              "    .colab-df-convert:hover {\n",
              "      background-color: #E2EBFA;\n",
              "      box-shadow: 0px 1px 2px rgba(60, 64, 67, 0.3), 0px 1px 3px 1px rgba(60, 64, 67, 0.15);\n",
              "      fill: #174EA6;\n",
              "    }\n",
              "\n",
              "    [theme=dark] .colab-df-convert {\n",
              "      background-color: #3B4455;\n",
              "      fill: #D2E3FC;\n",
              "    }\n",
              "\n",
              "    [theme=dark] .colab-df-convert:hover {\n",
              "      background-color: #434B5C;\n",
              "      box-shadow: 0px 1px 3px 1px rgba(0, 0, 0, 0.15);\n",
              "      filter: drop-shadow(0px 1px 2px rgba(0, 0, 0, 0.3));\n",
              "      fill: #FFFFFF;\n",
              "    }\n",
              "  </style>\n",
              "\n",
              "      <script>\n",
              "        const buttonEl =\n",
              "          document.querySelector('#df-a64e8ff3-1267-4309-94cb-c81965f031df button.colab-df-convert');\n",
              "        buttonEl.style.display =\n",
              "          google.colab.kernel.accessAllowed ? 'block' : 'none';\n",
              "\n",
              "        async function convertToInteractive(key) {\n",
              "          const element = document.querySelector('#df-a64e8ff3-1267-4309-94cb-c81965f031df');\n",
              "          const dataTable =\n",
              "            await google.colab.kernel.invokeFunction('convertToInteractive',\n",
              "                                                     [key], {});\n",
              "          if (!dataTable) return;\n",
              "\n",
              "          const docLinkHtml = 'Like what you see? Visit the ' +\n",
              "            '<a target=\"_blank\" href=https://colab.research.google.com/notebooks/data_table.ipynb>data table notebook</a>'\n",
              "            + ' to learn more about interactive tables.';\n",
              "          element.innerHTML = '';\n",
              "          dataTable['output_type'] = 'display_data';\n",
              "          await google.colab.output.renderOutput(dataTable, element);\n",
              "          const docLink = document.createElement('div');\n",
              "          docLink.innerHTML = docLinkHtml;\n",
              "          element.appendChild(docLink);\n",
              "        }\n",
              "      </script>\n",
              "    </div>\n",
              "  </div>\n",
              "  "
            ]
          },
          "metadata": {},
          "execution_count": 10
        }
      ]
    },
    {
      "cell_type": "markdown",
      "source": [
        "A partir da variável idade vamos contruir um gráfico de dispersão (scatterplot) para verificar a relação com a renda (variável resposta)."
      ],
      "metadata": {
        "id": "LY-nSdmTfYsu"
      }
    },
    {
      "cell_type": "code",
      "source": [
        "plt.plot(df.age, df.MonthlyIncome, '.');"
      ],
      "metadata": {
        "colab": {
          "base_uri": "https://localhost:8080/",
          "height": 276
        },
        "id": "ILmvwDtPeRJg",
        "outputId": "a7695c08-5c38-47ce-a870-acd8a172d6d5"
      },
      "execution_count": 13,
      "outputs": [
        {
          "output_type": "display_data",
          "data": {
            "text/plain": [
              "<Figure size 432x288 with 1 Axes>"
            ],
            "image/png": "[encoded data removed]"
          },
          "metadata": {
            "needs_background": "light"
          }
        }
      ]
    },
    {
      "cell_type": "code",
      "source": [
        "#Modificando a escala para melhorar a visualização.\n",
        "plt.plot(df.age, df.MonthlyIncome, '.')\n",
        "plt.yscale('log')"
      ],
      "metadata": {
        "colab": {
          "base_uri": "https://localhost:8080/",
          "height": 265
        },
        "id": "OxdcizXngX-C",
        "outputId": "cee31f1c-9fcb-430b-87c5-9958c6b529d9"
      },
      "execution_count": 12,
      "outputs": [
        {
          "output_type": "display_data",
          "data": {
            "text/plain": [
              "<Figure size 432x288 with 1 Axes>"
            ],
            "image/png": "[encoded data removed]"
          },
          "metadata": {
            "needs_background": "light"
          }
        }
      ]
    },
    {
      "cell_type": "code",
      "source": [
        "#Usando uma tranparência nos pontos para facilitar a interpretação.\n",
        "plt.plot(df.age, df.MonthlyIncome, '.', alpha = .01)\n",
        "plt.yscale('log')\n",
        "#Adicionando linhas\n",
        "plt.grid()"
      ],
      "metadata": {
        "colab": {
          "base_uri": "https://localhost:8080/",
          "height": 265
        },
        "id": "gfRJ4Eq_goC7",
        "outputId": "bd3cf7a6-ebce-4635-b1fc-9e8fbf7630ec"
      },
      "execution_count": 14,
      "outputs": [
        {
          "output_type": "display_data",
          "data": {
            "text/plain": [
              "<Figure size 432x288 with 1 Axes>"
            ],
            "image/png": "[encoded data removed]"
          },
          "metadata": {
            "needs_background": "light"
          }
        }
      ]
    },
    {
      "cell_type": "code",
      "source": [
        "#Repartindo os dados em faixas etárias que se deseja investigar.Na faixa de idade de 20 até 30 anos.\n",
        "plt.figure()\n",
        "plt.hist(df.loc[(df.age >= 20) &(df.age < 30)].MonthlyIncome, bins=np.logspace(0, 6.5, 100), rwidth = .8 )\n",
        "plt.xscale('log')\n",
        "plt.grid()\n",
        "\n",
        "plt.figure()\n",
        "plt.hist(df.loc[(df.age >= 50) &(df.age < 60)].MonthlyIncome, bins=np.logspace(0, 6.5, 100), rwidth = .8 )\n",
        "plt.xscale('log')\n",
        "plt.grid()"
      ],
      "metadata": {
        "colab": {
          "base_uri": "https://localhost:8080/",
          "height": 521
        },
        "id": "Bu8hNpSchF-v",
        "outputId": "f2ed0e5d-8556-4290-9f5a-a9c078ad0a9a"
      },
      "execution_count": 18,
      "outputs": [
        {
          "output_type": "display_data",
          "data": {
            "text/plain": [
              "<Figure size 432x288 with 1 Axes>"
            ],
            "image/png": "[encoded data removed]"
          },
          "metadata": {
            "needs_background": "light"
          }
        },
        {
          "output_type": "display_data",
          "data": {
            "text/plain": [
              "<Figure size 432x288 with 1 Axes>"
            ],
            "image/png": "[encoded data removed]"
          },
          "metadata": {
            "needs_background": "light"
          }
        }
      ]
    },
    {
      "cell_type": "markdown",
      "source": [
        "### Separar em variáveis preditivas e variável resposta."
      ],
      "metadata": {
        "id": "5BsBsmwboXHy"
      }
    },
    {
      "cell_type": "code",
      "source": [
        "X = df.drop('MonthlyIncome', axis =1)\n",
        "y = df.MonthlyIncome"
      ],
      "metadata": {
        "id": "xxeV0h3zisYr"
      },
      "execution_count": 19,
      "outputs": []
    },
    {
      "cell_type": "markdown",
      "source": [
        "###Separação em treino e teste"
      ],
      "metadata": {
        "id": "WmvBC55Yo3-n"
      }
    },
    {
      "cell_type": "code",
      "source": [
        "from sklearn.model_selection import train_test_split\n",
        "\n",
        "X_tr, X_ts, y_tr, y_ts = train_test_split(X, y, test_size = .3)"
      ],
      "metadata": {
        "id": "VRp3RNWio2wb"
      },
      "execution_count": 20,
      "outputs": []
    },
    {
      "cell_type": "markdown",
      "source": [
        "###Treinar o modelo"
      ],
      "metadata": {
        "id": "OLIZ48j7p6b8"
      }
    },
    {
      "cell_type": "code",
      "source": [
        "#Usando o modelo de Random Forest\n",
        "from sklearn.ensemble import RandomForestRegressor\n",
        "rf = RandomForestRegressor(n_estimators = 500, max_depth = 8, n_jobs = -1 )\n",
        "rf.fit(X_tr, y_tr)\n",
        "\n",
        "RandomForestRegressor(max_depth = 8, n_estimators = 500, n_jobs = -1)\n"
      ],
      "metadata": {
        "colab": {
          "base_uri": "https://localhost:8080/"
        },
        "id": "6ya-RValp06G",
        "outputId": "613ce7dd-37fa-474d-b18f-404ee1d71957"
      },
      "execution_count": 21,
      "outputs": [
        {
          "output_type": "execute_result",
          "data": {
            "text/plain": [
              "RandomForestRegressor(max_depth=8, n_estimators=500, n_jobs=-1)"
            ]
          },
          "metadata": {},
          "execution_count": 21
        }
      ]
    },
    {
      "cell_type": "code",
      "source": [
        "y_ts"
      ],
      "metadata": {
        "colab": {
          "base_uri": "https://localhost:8080/"
        },
        "id": "G-yrqM56r8vG",
        "outputId": "19814bff-6ea0-4a3c-ab72-777987d5015f"
      },
      "execution_count": 22,
      "outputs": [
        {
          "output_type": "execute_result",
          "data": {
            "text/plain": [
              "63935      9000.0\n",
              "17588      5483.0\n",
              "95717     12886.0\n",
              "31067      7958.0\n",
              "15223     10659.0\n",
              "           ...   \n",
              "91033      3500.0\n",
              "5564       6250.0\n",
              "119210     3200.0\n",
              "115082     8420.0\n",
              "27354      5833.0\n",
              "Name: MonthlyIncome, Length: 36081, dtype: float64"
            ]
          },
          "metadata": {},
          "execution_count": 22
        }
      ]
    },
    {
      "cell_type": "code",
      "source": [
        "#Vendo as predições. Para o primeiro cliente foi predita uma renda de 8945.19, \n",
        "#mas a renda real foi de 9000, o do segundo 8759.29 e a real foi de 5483.\n",
        "rf.predict(X_ts)"
      ],
      "metadata": {
        "colab": {
          "base_uri": "https://localhost:8080/"
        },
        "id": "7pCtePYwsLcN",
        "outputId": "2197465b-5273-4e4b-f9dc-f50b9b21dfbd"
      },
      "execution_count": 23,
      "outputs": [
        {
          "output_type": "execute_result",
          "data": {
            "text/plain": [
              "array([8945.19339285, 8759.29302419, 9638.09364746, ..., 4007.04909106,\n",
              "       7765.93148386, 4618.19515147])"
            ]
          },
          "metadata": {},
          "execution_count": 23
        }
      ]
    },
    {
      "cell_type": "markdown",
      "source": [
        "Par verificarmos se o modelo está bom, podemos analisar o erro (Renda real menos as predições do modelo).\n"
      ],
      "metadata": {
        "id": "boBkI9jBsyqz"
      }
    },
    {
      "cell_type": "code",
      "source": [
        "erro = y_ts - rf.predict(X_ts)\n",
        "erro"
      ],
      "metadata": {
        "colab": {
          "base_uri": "https://localhost:8080/"
        },
        "id": "OL7KO1IQsSJR",
        "outputId": "7f769109-f77b-44be-f453-0c3cc052b92b"
      },
      "execution_count": 24,
      "outputs": [
        {
          "output_type": "execute_result",
          "data": {
            "text/plain": [
              "63935       54.806607\n",
              "17588    -3276.293024\n",
              "95717     3247.906353\n",
              "31067      657.787403\n",
              "15223     2960.038202\n",
              "             ...     \n",
              "91033    -1676.602902\n",
              "5564     -1418.877240\n",
              "119210    -807.049091\n",
              "115082     654.068516\n",
              "27354     1214.804849\n",
              "Name: MonthlyIncome, Length: 36081, dtype: float64"
            ]
          },
          "metadata": {},
          "execution_count": 24
        }
      ]
    },
    {
      "cell_type": "markdown",
      "source": [
        "Quando o valor é negativo, o modelo errou para menos e quando positivo o modelo errou para mais."
      ],
      "metadata": {
        "id": "uRTXey0BtKfa"
      }
    },
    {
      "cell_type": "code",
      "source": [
        "#O erro médio foi.\n",
        "erro.mean()"
      ],
      "metadata": {
        "colab": {
          "base_uri": "https://localhost:8080/"
        },
        "id": "7N1KewIotHfJ",
        "outputId": "08394781-01af-4106-fe6d-95cd18b6d556"
      },
      "execution_count": 25,
      "outputs": [
        {
          "output_type": "execute_result",
          "data": {
            "text/plain": [
              "33.238303685717"
            ]
          },
          "metadata": {},
          "execution_count": 25
        }
      ]
    },
    {
      "cell_type": "markdown",
      "source": [
        "Apesar do modelo apresentar um erro baixo, não é o erro real, pois como os valores ora são positivo e ora negativo a média tende a ser zero. Não podendo avaliar se o modelo é bom ou não e sim podendo avaliar se ele apresenta algum viés para um lado ou outro.\n",
        "\n",
        "Para avaliar realmente o erro é usado o erro absoluto.\n",
        "Usando o módulo do valor, sem ser negativo ou positivo."
      ],
      "metadata": {
        "id": "vDdcihv4tcEY"
      }
    },
    {
      "cell_type": "code",
      "source": [
        "#Erro absoluto\n",
        "erro_abs = np.abs(y_ts - rf.predict(X_ts))"
      ],
      "metadata": {
        "id": "Cdf9jImStaDG"
      },
      "execution_count": 26,
      "outputs": []
    },
    {
      "cell_type": "code",
      "source": [
        "erro_abs"
      ],
      "metadata": {
        "colab": {
          "base_uri": "https://localhost:8080/"
        },
        "id": "2C3QrIYLuYYK",
        "outputId": "52225c8b-1758-4fdd-e2ac-3ee1b0479513"
      },
      "execution_count": 27,
      "outputs": [
        {
          "output_type": "execute_result",
          "data": {
            "text/plain": [
              "63935       54.806607\n",
              "17588     3276.293024\n",
              "95717     3247.906353\n",
              "31067      657.787403\n",
              "15223     2960.038202\n",
              "             ...     \n",
              "91033     1676.602902\n",
              "5564      1418.877240\n",
              "119210     807.049091\n",
              "115082     654.068516\n",
              "27354     1214.804849\n",
              "Name: MonthlyIncome, Length: 36081, dtype: float64"
            ]
          },
          "metadata": {},
          "execution_count": 27
        }
      ]
    },
    {
      "cell_type": "code",
      "source": [
        "#A média do erro absoluto (Erro Absoluto Médio)\n",
        "erro_abs.mean()"
      ],
      "metadata": {
        "colab": {
          "base_uri": "https://localhost:8080/"
        },
        "id": "kR146QTnudhr",
        "outputId": "02633ce7-c145-4838-ab97-59994537135f"
      },
      "execution_count": 28,
      "outputs": [
        {
          "output_type": "execute_result",
          "data": {
            "text/plain": [
              "3265.102983503433"
            ]
          },
          "metadata": {},
          "execution_count": 28
        }
      ]
    },
    {
      "cell_type": "code",
      "source": [
        "#Essa formula já tem pronta na biblioteca Scikitlearn.\n",
        "from sklearn.metrics import mean_absolute_error\n",
        "mean_absolute_error(y_ts, rf.predict(X_ts))"
      ],
      "metadata": {
        "colab": {
          "base_uri": "https://localhost:8080/"
        },
        "id": "2AIUbqKwum9i",
        "outputId": "0fccd985-8d86-44e1-fc7d-b48063f24b0a"
      },
      "execution_count": 31,
      "outputs": [
        {
          "output_type": "execute_result",
          "data": {
            "text/plain": [
              "3265.102983503433"
            ]
          },
          "metadata": {},
          "execution_count": 31
        }
      ]
    },
    {
      "cell_type": "markdown",
      "source": [
        "###Criando um histograma para comparar o modelo de predição e os dados reais."
      ],
      "metadata": {
        "id": "Vu_wc0GrwD5K"
      }
    },
    {
      "cell_type": "code",
      "source": [
        "plt.figure(figsize = (15,5))\n",
        "#Em azul o histograma dos dados reais\n",
        "plt.hist(y_ts, bins = np.logspace(1, 6.5, 100), color = 'b', alpha = .30, density = True)\n",
        "#Em vermelho o histograma dos dados preditos pelo modelo.\n",
        "plt.hist(rf.predict(X_ts), bins = np.logspace(1, 6.5, 100), color ='r', alpha = 0.30 , density = True)\n",
        "\n",
        "plt.xscale('log')"
      ],
      "metadata": {
        "colab": {
          "base_uri": "https://localhost:8080/",
          "height": 324
        },
        "id": "53lioMq1vUPI",
        "outputId": "c7266fc6-d35b-4884-9259-052164baeed2"
      },
      "execution_count": 33,
      "outputs": [
        {
          "output_type": "display_data",
          "data": {
            "text/plain": [
              "<Figure size 1080x360 with 1 Axes>"
            ],
            "image/png": "[encoded data removed]"
          },
          "metadata": {
            "needs_background": "light"
          }
        }
      ]
    },
    {
      "cell_type": "markdown",
      "source": [
        "O modelo está concentrando a renda dos clientes, sendo um indício de que o modelo precisa ser ajustado."
      ],
      "metadata": {
        "id": "dsR39EiOx0pT"
      }
    },
    {
      "cell_type": "code",
      "source": [
        ""
      ],
      "metadata": {
        "id": "by1ZpKUpxdbi"
      },
      "execution_count": null,
      "outputs": []
    }
  ]
}